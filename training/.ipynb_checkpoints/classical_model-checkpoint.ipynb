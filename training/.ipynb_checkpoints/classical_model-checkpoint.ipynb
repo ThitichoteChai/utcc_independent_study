{
 "cells": [
  {
   "cell_type": "code",
   "execution_count": 1,
   "id": "9285b4a0",
   "metadata": {},
   "outputs": [
    {
     "name": "stderr",
     "output_type": "stream",
     "text": [
      "C:\\Users\\Pop\\anaconda3\\envs\\utcc\\lib\\site-packages\\tqdm\\auto.py:21: TqdmWarning: IProgress not found. Please update jupyter and ipywidgets. See https://ipywidgets.readthedocs.io/en/stable/user_install.html\n",
      "  from .autonotebook import tqdm as notebook_tqdm\n"
     ]
    },
    {
     "name": "stdout",
     "output_type": "stream",
     "text": [
      "data_path: C:\\Users\\Pop\\Documents\\GitHub\\utcc_independent_study\\training\\..\\data\\data.xlsx\n",
      "model_dir: C:\\Users\\Pop\\Documents\\GitHub\\utcc_independent_study\\training\\..\\model\n",
      "K=1: train_1: 800 | test_1: 200\n",
      "K=2: train_2: 800 | test_2: 200\n",
      "K=3: train_3: 800 | test_3: 200\n",
      "K=4: train_4: 800 | test_4: 200\n",
      "K=5: train_5: 800 | test_5: 200\n",
      "Validation หูฟังไร้สาย: val_1: 41\n",
      "Validation คีย์บอร์ดและเมาส์: val_2: 34\n",
      "Validation ลำโพงบลูทูธ: val_3: 37\n",
      "Validation สมาร์ทวอร์ช: val_4: 40\n",
      "Validation เครื่องฟอกอากาศ: val_5: 35\n"
     ]
    }
   ],
   "source": [
    "%run data.py\n",
    "%run classical_model.py"
   ]
  },
  {
   "cell_type": "code",
   "execution_count": 5,
   "id": "f55ed266",
   "metadata": {},
   "outputs": [
    {
     "ename": "TypeError",
     "evalue": "linear_model() missing 1 required positional argument: 'index'",
     "output_type": "error",
     "traceback": [
      "\u001b[1;31m---------------------------------------------------------------------------\u001b[0m",
      "\u001b[1;31mTypeError\u001b[0m                                 Traceback (most recent call last)",
      "Cell \u001b[1;32mIn[5], line 14\u001b[0m\n\u001b[0;32m     11\u001b[0m y_train \u001b[38;5;241m=\u001b[39m train[\u001b[38;5;124m'\u001b[39m\u001b[38;5;124mscore\u001b[39m\u001b[38;5;124m'\u001b[39m]\n\u001b[0;32m     12\u001b[0m y_test \u001b[38;5;241m=\u001b[39m test[\u001b[38;5;124m'\u001b[39m\u001b[38;5;124mscore\u001b[39m\u001b[38;5;124m'\u001b[39m]\n\u001b[1;32m---> 14\u001b[0m \u001b[43mlinear_model\u001b[49m\u001b[43m(\u001b[49m\u001b[43mX_train\u001b[49m\u001b[43m,\u001b[49m\u001b[43m \u001b[49m\u001b[43mX_test\u001b[49m\u001b[43m,\u001b[49m\u001b[43m \u001b[49m\u001b[43my_train\u001b[49m\u001b[43m,\u001b[49m\u001b[43m \u001b[49m\u001b[43my_test\u001b[49m\u001b[43m,\u001b[49m\u001b[43m \u001b[49m\u001b[43mindex\u001b[49m\u001b[43m)\u001b[49m\n\u001b[0;32m     15\u001b[0m svm_model(X_train, X_test, y_train, y_test, index)\n\u001b[0;32m     16\u001b[0m tree_model(X_train, X_test, y_train, y_test, index)\n",
      "\u001b[1;31mTypeError\u001b[0m: linear_model() missing 1 required positional argument: 'index'"
     ]
    }
   ],
   "source": [
    "res_linear, res_svm, res_tree, res_knn = [], [], [], []\n",
    "\n",
    "for index in range(1, 6):\n",
    "    train = 'train_' + str(index) \n",
    "    test = 'test_' + str(index)\n",
    "    train = eval(train)\n",
    "    test = eval(test)\n",
    "\n",
    "    X_train = train['comment']\n",
    "    X_test = test['comment']\n",
    "    y_train = train['score']\n",
    "    y_test = test['score']\n",
    "    \n",
    "    linear_model(X_train, X_test, y_train, y_test, index)\n",
    "    svm_model(X_train, X_test, y_train, y_test, index)\n",
    "    tree_model(X_train, X_test, y_train, y_test, index)\n",
    "    knn_model(X_train, X_test, y_train, y_test, index)\n",
    "    \n",
    "    linear_name = 'linear_model_' + str(index) + '.pkl'\n",
    "    svm_name = 'svm_model_' + str(index) + '.pkl'\n",
    "    tree_name = 'tree_model_' + str(index) + '.pkl'\n",
    "    knn_name = 'knn_model_' + str(index) + '.pkl'\n",
    "    \n",
    "    # result = evaluate_model(linear_name, val_data)\n",
    "    # res_linear.append(result)\n",
    "    \n",
    "    # result = evaluate_model(svm_name, val_data)\n",
    "    # res_svm.append(result)\n",
    "    \n",
    "    # result = evaluate_model(tree_name, val_data)\n",
    "    # res_tree.append(result)\n",
    "    \n",
    "    # result = evaluate_model(knn_name, val_data)\n",
    "    # res_knn.append(result)"
   ]
  },
  {
   "cell_type": "code",
   "execution_count": null,
   "id": "3c504f6b",
   "metadata": {},
   "outputs": [],
   "source": []
  },
  {
   "cell_type": "code",
   "execution_count": null,
   "id": "12c3690a",
   "metadata": {},
   "outputs": [],
   "source": [
    "result = evaluate_model(tree_name, val_data)\n",
    "res_tree.append(result)\n",
    "\n",
    "for index, row in result.iterrows():\n",
    "    print(f\"comment: {row['comment']}\")\n",
    "    print(f\"predicted: {row['predicted']}\")\n",
    "    print('')"
   ]
  },
  {
   "cell_type": "code",
   "execution_count": null,
   "id": "10121cdf",
   "metadata": {},
   "outputs": [],
   "source": []
  }
 ],
 "metadata": {
  "kernelspec": {
   "display_name": "Python 3 (ipykernel)",
   "language": "python",
   "name": "python3"
  },
  "language_info": {
   "codemirror_mode": {
    "name": "ipython",
    "version": 3
   },
   "file_extension": ".py",
   "mimetype": "text/x-python",
   "name": "python",
   "nbconvert_exporter": "python",
   "pygments_lexer": "ipython3",
   "version": "3.8.16"
  }
 },
 "nbformat": 4,
 "nbformat_minor": 5
}
