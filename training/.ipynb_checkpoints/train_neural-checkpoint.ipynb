{
 "cells": [
  {
   "cell_type": "code",
   "execution_count": 8,
   "id": "a7949de4",
   "metadata": {},
   "outputs": [
    {
     "name": "stdout",
     "output_type": "stream",
     "text": [
      "data_path: C:\\Users\\Pop\\Documents\\GitHub\\utcc_independent_study\\training\\..\\data\\data.xlsx\n",
      "model_dir: C:\\Users\\Pop\\Documents\\GitHub\\utcc_independent_study\\training\\..\\model\n",
      "K=1: train_1: 800 | test_1: 200\n",
      "K=2: train_2: 800 | test_2: 200\n",
      "K=3: train_3: 800 | test_3: 200\n",
      "K=4: train_4: 800 | test_4: 200\n",
      "K=5: train_5: 800 | test_5: 200\n",
      "Validation หูฟังไร้สาย: val_1: 41\n",
      "Validation คีย์บอร์ดและเมาส์: val_2: 34\n",
      "Validation ลำโพงบลูทูธ: val_3: 37\n",
      "Validation สมาร์ทวอร์ช: val_4: 40\n",
      "Validation เครื่องฟอกอากาศ: val_5: 35\n"
     ]
    }
   ],
   "source": [
    "%run data.py\n",
    "%run neural_model.py"
   ]
  },
  {
   "cell_type": "code",
   "execution_count": 9,
   "id": "d9ac17a9",
   "metadata": {},
   "outputs": [
    {
     "name": "stderr",
     "output_type": "stream",
     "text": [
      "C:\\Users\\Pop\\Documents\\GitHub\\utcc_independent_study\\training\\neural_model.py:49: SettingWithCopyWarning: \n",
      "A value is trying to be set on a copy of a slice from a DataFrame.\n",
      "Try using .loc[row_indexer,col_indexer] = value instead\n",
      "\n",
      "See the caveats in the documentation: https://pandas.pydata.org/pandas-docs/stable/user_guide/indexing.html#returning-a-view-versus-a-copy\n",
      "  data.loc[:, 'encoded'] = data['comment'].apply(lambda x: encode_sentence(x, vocab2index, max_len)).tolist()\n",
      "C:\\Users\\Pop\\Documents\\GitHub\\utcc_independent_study\\training\\neural_model.py:49: SettingWithCopyWarning: \n",
      "A value is trying to be set on a copy of a slice from a DataFrame.\n",
      "Try using .loc[row_indexer,col_indexer] = value instead\n",
      "\n",
      "See the caveats in the documentation: https://pandas.pydata.org/pandas-docs/stable/user_guide/indexing.html#returning-a-view-versus-a-copy\n",
      "  data.loc[:, 'encoded'] = data['comment'].apply(lambda x: encode_sentence(x, vocab2index, max_len)).tolist()\n"
     ]
    },
    {
     "name": "stdout",
     "output_type": "stream",
     "text": [
      "******************** lstm_model_1.pth ********************)\n",
      "train_1, test_1\n"
     ]
    },
    {
     "ename": "KeyboardInterrupt",
     "evalue": "",
     "output_type": "error",
     "traceback": [
      "\u001b[1;31m---------------------------------------------------------------------------\u001b[0m",
      "\u001b[1;31mKeyboardInterrupt\u001b[0m                         Traceback (most recent call last)",
      "Cell \u001b[1;32mIn[9], line 37\u001b[0m\n\u001b[0;32m     34\u001b[0m dnn_name \u001b[38;5;241m=\u001b[39m \u001b[38;5;124m'\u001b[39m\u001b[38;5;124mdnn_model_\u001b[39m\u001b[38;5;124m'\u001b[39m \u001b[38;5;241m+\u001b[39m \u001b[38;5;28mstr\u001b[39m(index) \u001b[38;5;241m+\u001b[39m \u001b[38;5;124m'\u001b[39m\u001b[38;5;124m.pth\u001b[39m\u001b[38;5;124m'\u001b[39m\n\u001b[0;32m     36\u001b[0m lstm_model \u001b[38;5;241m=\u001b[39m LSTM_regr(vocab_size, embedding_dim, hidden_dim)\n\u001b[1;32m---> 37\u001b[0m lstm_path \u001b[38;5;241m=\u001b[39m \u001b[43mtrain_model_regr\u001b[49m\u001b[43m(\u001b[49m\u001b[43mlstm_model\u001b[49m\u001b[43m,\u001b[49m\u001b[43m \u001b[49m\u001b[43mtrain_loader\u001b[49m\u001b[43m,\u001b[49m\u001b[43m \u001b[49m\u001b[43mtest_loader\u001b[49m\u001b[43m,\u001b[49m\u001b[43m \u001b[49m\u001b[43mlstm_name\u001b[49m\u001b[43m,\u001b[49m\u001b[43m \u001b[49m\u001b[43mindex\u001b[49m\u001b[43m,\u001b[49m\u001b[43m \u001b[49m\u001b[43mepochs\u001b[49m\u001b[38;5;241;43m=\u001b[39;49m\u001b[38;5;241;43m30\u001b[39;49m\u001b[43m,\u001b[49m\u001b[43m \u001b[49m\u001b[43mlr\u001b[49m\u001b[38;5;241;43m=\u001b[39;49m\u001b[38;5;241;43m5e-5\u001b[39;49m\u001b[43m)\u001b[49m\n\u001b[0;32m     38\u001b[0m \u001b[38;5;66;03m# lstm_model.load_state_dict(torch.load(lstm_path))\u001b[39;00m\n\u001b[0;32m     39\u001b[0m \u001b[38;5;66;03m# result = evaluation_validate(lstm_model, val_data, val_loader)\u001b[39;00m\n\u001b[0;32m     40\u001b[0m \u001b[38;5;66;03m# res_lstm.append(result)\u001b[39;00m\n\u001b[0;32m     42\u001b[0m rnn_model \u001b[38;5;241m=\u001b[39m RNN_regr(vocab_size, embedding_dim, hidden_dim)\n",
      "File \u001b[1;32m~\\Documents\\GitHub\\utcc_independent_study\\training\\neural_model.py:91\u001b[0m, in \u001b[0;36mtrain_model_regr\u001b[1;34m(model, train_loader, test_loader, file_name, index, epochs, lr, early_stopping_measure)\u001b[0m\n\u001b[0;32m     89\u001b[0m optimizer\u001b[38;5;241m.\u001b[39mzero_grad()\n\u001b[0;32m     90\u001b[0m loss \u001b[38;5;241m=\u001b[39m F\u001b[38;5;241m.\u001b[39ml1_loss(y_pred, y\u001b[38;5;241m.\u001b[39munsqueeze(\u001b[38;5;241m-\u001b[39m\u001b[38;5;241m1\u001b[39m))\n\u001b[1;32m---> 91\u001b[0m \u001b[43mloss\u001b[49m\u001b[38;5;241;43m.\u001b[39;49m\u001b[43mbackward\u001b[49m\u001b[43m(\u001b[49m\u001b[43m)\u001b[49m\n\u001b[0;32m     92\u001b[0m optimizer\u001b[38;5;241m.\u001b[39mstep()\n\u001b[0;32m     93\u001b[0m sum_loss \u001b[38;5;241m+\u001b[39m\u001b[38;5;241m=\u001b[39m loss\u001b[38;5;241m.\u001b[39mitem()\u001b[38;5;241m*\u001b[39my\u001b[38;5;241m.\u001b[39mshape[\u001b[38;5;241m0\u001b[39m]\n",
      "File \u001b[1;32m~\\anaconda3\\envs\\utcc\\lib\\site-packages\\torch\\tensor.py:221\u001b[0m, in \u001b[0;36mTensor.backward\u001b[1;34m(self, gradient, retain_graph, create_graph)\u001b[0m\n\u001b[0;32m    213\u001b[0m \u001b[38;5;28;01mif\u001b[39;00m \u001b[38;5;28mtype\u001b[39m(\u001b[38;5;28mself\u001b[39m) \u001b[38;5;129;01mis\u001b[39;00m \u001b[38;5;129;01mnot\u001b[39;00m Tensor \u001b[38;5;129;01mand\u001b[39;00m has_torch_function(relevant_args):\n\u001b[0;32m    214\u001b[0m     \u001b[38;5;28;01mreturn\u001b[39;00m handle_torch_function(\n\u001b[0;32m    215\u001b[0m         Tensor\u001b[38;5;241m.\u001b[39mbackward,\n\u001b[0;32m    216\u001b[0m         relevant_args,\n\u001b[1;32m   (...)\u001b[0m\n\u001b[0;32m    219\u001b[0m         retain_graph\u001b[38;5;241m=\u001b[39mretain_graph,\n\u001b[0;32m    220\u001b[0m         create_graph\u001b[38;5;241m=\u001b[39mcreate_graph)\n\u001b[1;32m--> 221\u001b[0m \u001b[43mtorch\u001b[49m\u001b[38;5;241;43m.\u001b[39;49m\u001b[43mautograd\u001b[49m\u001b[38;5;241;43m.\u001b[39;49m\u001b[43mbackward\u001b[49m\u001b[43m(\u001b[49m\u001b[38;5;28;43mself\u001b[39;49m\u001b[43m,\u001b[49m\u001b[43m \u001b[49m\u001b[43mgradient\u001b[49m\u001b[43m,\u001b[49m\u001b[43m \u001b[49m\u001b[43mretain_graph\u001b[49m\u001b[43m,\u001b[49m\u001b[43m \u001b[49m\u001b[43mcreate_graph\u001b[49m\u001b[43m)\u001b[49m\n",
      "File \u001b[1;32m~\\anaconda3\\envs\\utcc\\lib\\site-packages\\torch\\autograd\\__init__.py:126\u001b[0m, in \u001b[0;36mbackward\u001b[1;34m(tensors, grad_tensors, retain_graph, create_graph, grad_variables)\u001b[0m\n\u001b[0;32m    123\u001b[0m tensors \u001b[38;5;241m=\u001b[39m (tensors,) \u001b[38;5;28;01mif\u001b[39;00m \u001b[38;5;28misinstance\u001b[39m(tensors, torch\u001b[38;5;241m.\u001b[39mTensor) \u001b[38;5;28;01melse\u001b[39;00m \u001b[38;5;28mtuple\u001b[39m(tensors)\n\u001b[0;32m    125\u001b[0m grad_tensors_ \u001b[38;5;241m=\u001b[39m _tensor_or_tensors_to_tuple(grad_tensors, \u001b[38;5;28mlen\u001b[39m(tensors))\n\u001b[1;32m--> 126\u001b[0m grad_tensors_ \u001b[38;5;241m=\u001b[39m \u001b[43m_make_grads\u001b[49m\u001b[43m(\u001b[49m\u001b[43mtensors\u001b[49m\u001b[43m,\u001b[49m\u001b[43m \u001b[49m\u001b[43mgrad_tensors_\u001b[49m\u001b[43m)\u001b[49m\n\u001b[0;32m    127\u001b[0m \u001b[38;5;28;01mif\u001b[39;00m retain_graph \u001b[38;5;129;01mis\u001b[39;00m \u001b[38;5;28;01mNone\u001b[39;00m:\n\u001b[0;32m    128\u001b[0m     retain_graph \u001b[38;5;241m=\u001b[39m create_graph\n",
      "File \u001b[1;32m~\\anaconda3\\envs\\utcc\\lib\\site-packages\\torch\\autograd\\__init__.py:51\u001b[0m, in \u001b[0;36m_make_grads\u001b[1;34m(outputs, grads)\u001b[0m\n\u001b[0;32m     49\u001b[0m     \u001b[38;5;28;01mif\u001b[39;00m out\u001b[38;5;241m.\u001b[39mnumel() \u001b[38;5;241m!=\u001b[39m \u001b[38;5;241m1\u001b[39m:\n\u001b[0;32m     50\u001b[0m         \u001b[38;5;28;01mraise\u001b[39;00m \u001b[38;5;167;01mRuntimeError\u001b[39;00m(\u001b[38;5;124m\"\u001b[39m\u001b[38;5;124mgrad can be implicitly created only for scalar outputs\u001b[39m\u001b[38;5;124m\"\u001b[39m)\n\u001b[1;32m---> 51\u001b[0m     new_grads\u001b[38;5;241m.\u001b[39mappend(\u001b[43mtorch\u001b[49m\u001b[38;5;241;43m.\u001b[39;49m\u001b[43mones_like\u001b[49m\u001b[43m(\u001b[49m\u001b[43mout\u001b[49m\u001b[43m,\u001b[49m\u001b[43m \u001b[49m\u001b[43mmemory_format\u001b[49m\u001b[38;5;241;43m=\u001b[39;49m\u001b[43mtorch\u001b[49m\u001b[38;5;241;43m.\u001b[39;49m\u001b[43mpreserve_format\u001b[49m\u001b[43m)\u001b[49m)\n\u001b[0;32m     52\u001b[0m \u001b[38;5;28;01melse\u001b[39;00m:\n\u001b[0;32m     53\u001b[0m     new_grads\u001b[38;5;241m.\u001b[39mappend(\u001b[38;5;28;01mNone\u001b[39;00m)\n",
      "\u001b[1;31mKeyboardInterrupt\u001b[0m: "
     ]
    }
   ],
   "source": [
    "embedding_dim = 200\n",
    "hidden_dim = 150\n",
    "\n",
    "num_filters = 100\n",
    "filter_sizes = [3, 4, 5]\n",
    "\n",
    "lr_rate = 5e-5\n",
    "max_epochs = 50\n",
    "\n",
    "res_lstm, res_rnn, res_cnn, res_dnn = [], [], [], []\n",
    "\n",
    "for index in range(1, 6):\n",
    "    \n",
    "    train = 'train_' + str(index) \n",
    "    test = 'test_' + str(index)\n",
    "    train = eval(train)\n",
    "    test = eval(test)\n",
    "    \n",
    "    train_data, vocab2index = preprocess_data(train)\n",
    "    test_data, _ = preprocess_data(test, vocab2index=vocab2index)\n",
    "    \n",
    "    train_ds = ThaiDataset(list(train_data['encoded']), list(train_data['score']))\n",
    "    test_ds = ThaiDataset(list(test_data['encoded']), list(test_data['score']))\n",
    "    \n",
    "    train_loader = DataLoader(train_ds, batch_size=16, shuffle=True)\n",
    "    test_loader = DataLoader(test_ds, batch_size=16)\n",
    "    \n",
    "    vocab_size = len(vocab2index)\n",
    "    \n",
    "    # validate, _ = preprocess_data(val_data, vocab2index=vocab2index)\n",
    "    # val_ds = ThaiDataset(list(validate['encoded']), list(validate['score']))\n",
    "    # val_loader = DataLoader(val_ds, batch_size=16)\n",
    "    \n",
    "    lstm_name = 'lstm_model_' + str(index) + '.pth'\n",
    "    rnn_name = 'rnn_model_' + str(index) + '.pth'\n",
    "    cnn_name = 'cnn_model_' + str(index) + '.pth'\n",
    "    dnn_name = 'dnn_model_' + str(index) + '.pth'\n",
    "    \n",
    "    lstm_model = LSTM_regr(vocab_size, embedding_dim, hidden_dim)\n",
    "    lstm_path = train_model_regr(lstm_model, train_loader, test_loader, lstm_name, index, epochs=max_epochs, lr=lr_rate)\n",
    "    # lstm_model.load_state_dict(torch.load(lstm_path))\n",
    "    # result = evaluation_validate(lstm_model, val_data, val_loader)\n",
    "    # res_lstm.append(result)\n",
    "    \n",
    "    rnn_model = RNN_regr(vocab_size, embedding_dim, hidden_dim)\n",
    "    rnn_path = train_model_regr(rnn_model, train_loader, test_loader, rnn_name, index, epochs=max_epochs, lr=lr_rate)\n",
    "    # rnn_model.load_state_dict(torch.load(rnn_path))\n",
    "    # result = evaluation_validate(rnn_model, val_data, val_loader)\n",
    "    # res_rnn.append(result)\n",
    "    \n",
    "    cnn_model = CNN_regr(vocab_size, embedding_dim, num_filters, filter_sizes, hidden_dim)\n",
    "    cnn_path = train_model_regr(cnn_model, train_loader, test_loader, cnn_name, index, epochs=max_epochs, lr=lr_rate)\n",
    "    # cnn_model.load_state_dict(torch.load(cnn_path))\n",
    "    # result = evaluation_validate(cnn_model, val_data, val_loader)\n",
    "    # res_cnn.append(result)\n",
    "    \n",
    "    dnn_model = DNN_regr(vocab_size, embedding_dim, hidden_dim)\n",
    "    dnn_path = train_model_regr(dnn_model, train_loader, test_loader, dnn_name, index, epochs=max_epochs, lr=lr_rate)\n",
    "    # dnn_model.load_state_dict(torch.load(dnn_path))\n",
    "    # result = evaluation_validate(dnn_model, val_data, val_loader)\n",
    "    # res_dnn.append(result)"
   ]
  },
  {
   "cell_type": "code",
   "execution_count": 7,
   "id": "b37675f3",
   "metadata": {},
   "outputs": [
    {
     "data": {
      "text/html": [
       "<div>\n",
       "<style scoped>\n",
       "    .dataframe tbody tr th:only-of-type {\n",
       "        vertical-align: middle;\n",
       "    }\n",
       "\n",
       "    .dataframe tbody tr th {\n",
       "        vertical-align: top;\n",
       "    }\n",
       "\n",
       "    .dataframe thead th {\n",
       "        text-align: right;\n",
       "    }\n",
       "</style>\n",
       "<table border=\"1\" class=\"dataframe\">\n",
       "  <thead>\n",
       "    <tr style=\"text-align: right;\">\n",
       "      <th></th>\n",
       "      <th>comment</th>\n",
       "      <th>score</th>\n",
       "      <th>encoded</th>\n",
       "    </tr>\n",
       "  </thead>\n",
       "  <tbody>\n",
       "    <tr>\n",
       "      <th>0</th>\n",
       "      <td>แย่ เสียงพอใช้ได้แต่ไมค์แย่มากใช้คุยไม่ได้เลยไ...</td>\n",
       "      <td>6.00</td>\n",
       "      <td>([2, 3, 4, 5, 6, 7, 8, 9, 10, 11, 12, 13, 14, ...</td>\n",
       "    </tr>\n",
       "    <tr>\n",
       "      <th>1</th>\n",
       "      <td>เสียงคุยผ่าน MS Teams ปลายทางบอกว่าอู้อี้ แต่เ...</td>\n",
       "      <td>7.00</td>\n",
       "      <td>([4, 10, 26, 3, 1, 3, 1, 3, 1, 27, 28, 29, 3, ...</td>\n",
       "    </tr>\n",
       "    <tr>\n",
       "      <th>2</th>\n",
       "      <td>แอดมินแอคทีฟตอบหน่อยค่ะ เห็นแจ้งว่าแอคทีฟ9โมงน...</td>\n",
       "      <td>5.00</td>\n",
       "      <td>([46, 47, 48, 49, 50, 3, 51, 52, 44, 47, 53, 1...</td>\n",
       "    </tr>\n",
       "    <tr>\n",
       "      <th>3</th>\n",
       "      <td>สั่งมาผิดยกเลิกไม่ได้จะตีกลับก้อสงสารขนส่งเลยจ...</td>\n",
       "      <td>4.75</td>\n",
       "      <td>([58, 19, 59, 60, 11, 12, 17, 1, 61, 62, 63, 1...</td>\n",
       "    </tr>\n",
       "    <tr>\n",
       "      <th>4</th>\n",
       "      <td>ใช้แล้วเด้งรัวๆ หลอนมาก</td>\n",
       "      <td>1.25</td>\n",
       "      <td>([68, 1, 1, 69, 3, 1, 70, 0, 0, 0, 0, 0, 0, 0,...</td>\n",
       "    </tr>\n",
       "    <tr>\n",
       "      <th>...</th>\n",
       "      <td>...</td>\n",
       "      <td>...</td>\n",
       "      <td>...</td>\n",
       "    </tr>\n",
       "    <tr>\n",
       "      <th>993</th>\n",
       "      <td>การติดตั้งไม่สมบูรณ์ หรือไม่ตรงกับคำอธิบาย</td>\n",
       "      <td>2.50</td>\n",
       "      <td>([209, 1, 11, 478, 3, 919, 226, 325, 1102, 0, ...</td>\n",
       "    </tr>\n",
       "    <tr>\n",
       "      <th>994</th>\n",
       "      <td>คุณภาพไม่คุ้มกับราคา</td>\n",
       "      <td>3.25</td>\n",
       "      <td>([133, 11, 15, 325, 301, 0, 0, 0, 0, 0, 0, 0, ...</td>\n",
       "    </tr>\n",
       "    <tr>\n",
       "      <th>996</th>\n",
       "      <td>ลำโพงนี้มีเสียงแบบเบามาก</td>\n",
       "      <td>3.25</td>\n",
       "      <td>([332, 167, 333, 228, 224, 70, 0, 0, 0, 0, 0, ...</td>\n",
       "    </tr>\n",
       "    <tr>\n",
       "      <th>997</th>\n",
       "      <td>มีเสียงแหลมมากเกินไป</td>\n",
       "      <td>2.75</td>\n",
       "      <td>([74, 1173, 1, 0, 0, 0, 0, 0, 0, 0, 0, 0, 0, 0...</td>\n",
       "    </tr>\n",
       "    <tr>\n",
       "      <th>999</th>\n",
       "      <td>ร้านค้าไม่ค่อยดูแลสินค้าดีเท่าไหร่</td>\n",
       "      <td>3.25</td>\n",
       "      <td>([108, 14, 723, 87, 173, 495, 0, 0, 0, 0, 0, 0...</td>\n",
       "    </tr>\n",
       "  </tbody>\n",
       "</table>\n",
       "<p>800 rows × 3 columns</p>\n",
       "</div>"
      ],
      "text/plain": [
       "                                               comment  score  \\\n",
       "0    แย่ เสียงพอใช้ได้แต่ไมค์แย่มากใช้คุยไม่ได้เลยไ...   6.00   \n",
       "1    เสียงคุยผ่าน MS Teams ปลายทางบอกว่าอู้อี้ แต่เ...   7.00   \n",
       "2    แอดมินแอคทีฟตอบหน่อยค่ะ เห็นแจ้งว่าแอคทีฟ9โมงน...   5.00   \n",
       "3    สั่งมาผิดยกเลิกไม่ได้จะตีกลับก้อสงสารขนส่งเลยจ...   4.75   \n",
       "4                              ใช้แล้วเด้งรัวๆ หลอนมาก   1.25   \n",
       "..                                                 ...    ...   \n",
       "993         การติดตั้งไม่สมบูรณ์ หรือไม่ตรงกับคำอธิบาย   2.50   \n",
       "994                               คุณภาพไม่คุ้มกับราคา   3.25   \n",
       "996                           ลำโพงนี้มีเสียงแบบเบามาก   3.25   \n",
       "997                               มีเสียงแหลมมากเกินไป   2.75   \n",
       "999                 ร้านค้าไม่ค่อยดูแลสินค้าดีเท่าไหร่   3.25   \n",
       "\n",
       "                                               encoded  \n",
       "0    ([2, 3, 4, 5, 6, 7, 8, 9, 10, 11, 12, 13, 14, ...  \n",
       "1    ([4, 10, 26, 3, 1, 3, 1, 3, 1, 27, 28, 29, 3, ...  \n",
       "2    ([46, 47, 48, 49, 50, 3, 51, 52, 44, 47, 53, 1...  \n",
       "3    ([58, 19, 59, 60, 11, 12, 17, 1, 61, 62, 63, 1...  \n",
       "4    ([68, 1, 1, 69, 3, 1, 70, 0, 0, 0, 0, 0, 0, 0,...  \n",
       "..                                                 ...  \n",
       "993  ([209, 1, 11, 478, 3, 919, 226, 325, 1102, 0, ...  \n",
       "994  ([133, 11, 15, 325, 301, 0, 0, 0, 0, 0, 0, 0, ...  \n",
       "996  ([332, 167, 333, 228, 224, 70, 0, 0, 0, 0, 0, ...  \n",
       "997  ([74, 1173, 1, 0, 0, 0, 0, 0, 0, 0, 0, 0, 0, 0...  \n",
       "999  ([108, 14, 723, 87, 173, 495, 0, 0, 0, 0, 0, 0...  \n",
       "\n",
       "[800 rows x 3 columns]"
      ]
     },
     "execution_count": 7,
     "metadata": {},
     "output_type": "execute_result"
    }
   ],
   "source": []
  },
  {
   "cell_type": "code",
   "execution_count": null,
   "id": "cc0ad6c8",
   "metadata": {},
   "outputs": [],
   "source": [
    "train_data, vocab2index = preprocess_data(train_1)\n",
    "test_data, _ = preprocess_data(test_1, vocab2index=vocab2index)\n",
    "\n",
    "from IPython.display import clear_output\n",
    "clear_output()\n",
    "\n",
    "print(\"Train data shape:\", train_data.shape)\n",
    "print(\"Test data shape:\", test_data.shape)"
   ]
  },
  {
   "cell_type": "code",
   "execution_count": null,
   "id": "6a53cd5a",
   "metadata": {},
   "outputs": [],
   "source": [
    "train_ds = ThaiDataset(list(train_data['encoded']), list(train_data['score']))\n",
    "test_ds = ThaiDataset(list(test_data['encoded']), list(test_data['score']))\n",
    "\n",
    "print(\"Train dataset length:\", len(train_ds))\n",
    "print(\"Test dataset length:\", len(test_ds))"
   ]
  },
  {
   "cell_type": "code",
   "execution_count": null,
   "id": "955444e6",
   "metadata": {},
   "outputs": [],
   "source": [
    "train_loader = DataLoader(train_ds, batch_size=16, shuffle=True)\n",
    "test_loader = DataLoader(test_ds, batch_size=16)\n",
    "\n",
    "print(f\"Train loader length: {len(train_loader)}\")\n",
    "print(f\"Train loader length: {len(test_loader)}\")"
   ]
  },
  {
   "cell_type": "code",
   "execution_count": null,
   "id": "8a49c7cd",
   "metadata": {},
   "outputs": [],
   "source": [
    "vocab_size = len(vocab2index)\n",
    "embedding_dim = 200\n",
    "hidden_dim = 150\n",
    "\n",
    "lstm_model = LSTM_regr(vocab_size, embedding_dim, hidden_dim)\n",
    "train_model_regr(lstm_model, train_loader, test_loader, epochs=15, lr=5e-5, file_name)"
   ]
  },
  {
   "cell_type": "code",
   "execution_count": null,
   "id": "c9e6b8e7",
   "metadata": {},
   "outputs": [],
   "source": [
    "res_lstm, les_rnn, les_cnn, les_dnn = [], [], [], []\n",
    "batch_size = 16\n",
    "\n",
    "for index in range(1, 6):\n",
    "    train = 'train_' + str(index) \n",
    "    test = 'test_' + str(index)\n",
    "    train = eval(train)\n",
    "    test = eval(test)\n",
    "\n",
    "    X_train = train['comment']\n",
    "    X_test = test['comment']\n",
    "    y_train = train['score']\n",
    "    y_test = test['score']\n"
   ]
  },
  {
   "cell_type": "code",
   "execution_count": null,
   "id": "8635751d",
   "metadata": {},
   "outputs": [],
   "source": [
    "X_train, X_valid, y_train, y_valid = train_test_split(train_1['encoded'], train_1['score'])"
   ]
  },
  {
   "cell_type": "code",
   "execution_count": null,
   "id": "f0841f37",
   "metadata": {},
   "outputs": [],
   "source": [
    "type(train_1), type(train_1['encoded']), type(X_train)"
   ]
  },
  {
   "cell_type": "code",
   "execution_count": null,
   "id": "8e13d3e4",
   "metadata": {},
   "outputs": [],
   "source": [
    "train_1['encoded']"
   ]
  },
  {
   "cell_type": "code",
   "execution_count": null,
   "id": "66235150",
   "metadata": {},
   "outputs": [],
   "source": [
    "train_1"
   ]
  },
  {
   "cell_type": "code",
   "execution_count": null,
   "id": "d56f6c56",
   "metadata": {},
   "outputs": [],
   "source": [
    "train_data['encoded'] = train_data['encoded'].apply(lambda x: x[0])"
   ]
  },
  {
   "cell_type": "code",
   "execution_count": null,
   "id": "7d37a9da",
   "metadata": {},
   "outputs": [],
   "source": [
    "model_dir = os.path.join(os.getcwd(), \"..\", \"model\")"
   ]
  },
  {
   "cell_type": "code",
   "execution_count": null,
   "id": "f5b794f8",
   "metadata": {},
   "outputs": [],
   "source": []
  }
 ],
 "metadata": {
  "kernelspec": {
   "display_name": "Python 3 (ipykernel)",
   "language": "python",
   "name": "python3"
  },
  "language_info": {
   "codemirror_mode": {
    "name": "ipython",
    "version": 3
   },
   "file_extension": ".py",
   "mimetype": "text/x-python",
   "name": "python",
   "nbconvert_exporter": "python",
   "pygments_lexer": "ipython3",
   "version": "3.8.16"
  }
 },
 "nbformat": 4,
 "nbformat_minor": 5
}
