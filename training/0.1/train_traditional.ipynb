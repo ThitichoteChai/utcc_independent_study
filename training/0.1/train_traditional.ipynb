{
 "cells": [
  {
   "cell_type": "code",
   "execution_count": 12,
   "id": "8aa61f14",
   "metadata": {},
   "outputs": [
    {
     "name": "stdout",
     "output_type": "stream",
     "text": [
      "Data path: C:\\Users\\Pop\\Documents\\GitHub\\utcc_independent_study\\training\\..\\data\\data.xlsx\n",
      "data_size: 1000\n",
      "variable: data train_data test_data\n"
     ]
    }
   ],
   "source": [
    "%run data_read.py\n",
    "\n",
    "X_train, X_test, y_train, y_test = train_test_split(data['comment'], data['score'], test_size=0.2, random_state=42)\n",
    "\n",
    "# Number of cross-validation folds\n",
    "cv = 5\n",
    "n_jobs = -1\n",
    "verbose = 1\n",
    "\n",
    "current_dir = os.getcwd()\n",
    "model_save_dir = os.path.join(current_dir, \"..\", \"model\")"
   ]
  },
  {
   "cell_type": "markdown",
   "id": "9f1b712e",
   "metadata": {},
   "source": [
    "1. Linear Model"
   ]
  },
  {
   "cell_type": "code",
   "execution_count": 13,
   "id": "e333042b",
   "metadata": {},
   "outputs": [
    {
     "name": "stdout",
     "output_type": "stream",
     "text": [
      "Performing grid search for Linear Regression...\n",
      "Fitting 5 folds for each of 4 candidates, totalling 20 fits\n"
     ]
    },
    {
     "name": "stderr",
     "output_type": "stream",
     "text": [
      "C:\\Users\\Pop\\anaconda3\\envs\\utcc\\lib\\site-packages\\sklearn\\feature_extraction\\text.py:528: UserWarning: The parameter 'token_pattern' will not be used since 'tokenizer' is not None'\n",
      "  warnings.warn(\n"
     ]
    },
    {
     "name": "stdout",
     "output_type": "stream",
     "text": [
      "Best hyperparameters for Linear Regression: {'regressor__copy_X': True, 'regressor__fit_intercept': False}\n",
      "Mean test score: 0.0205\n",
      "Linear Regression MSE on test set: 6.5504\n",
      "Linear Regression MAE on test set: 2.0323\n",
      "train: 15.2036\n",
      "test: 0.1753\n"
     ]
    },
    {
     "data": {
      "text/plain": [
       "['C:\\\\Users\\\\Pop\\\\Documents\\\\GitHub\\\\utcc_independent_study\\\\training\\\\..\\\\model\\\\linear_model.pkl']"
      ]
     },
     "execution_count": 13,
     "metadata": {},
     "output_type": "execute_result"
    }
   ],
   "source": [
    "pipeline_linear = Pipeline([\n",
    "    ('tfidf', TfidfVectorizer(tokenizer=thai_tokenizer)),\n",
    "    ('regressor', LinearRegression())\n",
    "])\n",
    "\n",
    "param_grid_linear = {\n",
    "    'regressor__fit_intercept': [True, False],\n",
    "    'regressor__copy_X': [True, False]\n",
    "}\n",
    "\n",
    "# Perform the grid search for Linear Regression\n",
    "print('Performing grid search for Linear Regression...')\n",
    "grid_search_linear = GridSearchCV(\n",
    "    pipeline_linear,\n",
    "    param_grid=param_grid_linear,\n",
    "    n_jobs=n_jobs,\n",
    "    verbose=verbose\n",
    ")\n",
    "\n",
    "# Fit the grid search object on the training data\n",
    "start_time = time.time()\n",
    "grid_search_linear.fit(X_train, y_train)\n",
    "end_time = time.time()\n",
    "\n",
    "train_time = end_time - start_time\n",
    "\n",
    "# Print the best hyperparameters and corresponding mean test score\n",
    "print(f'Best hyperparameters for Linear Regression: {grid_search_linear.best_params_}')\n",
    "print(f'Mean test score: {grid_search_linear.best_score_:.4f}')\n",
    "\n",
    "# Evaluate the best model on the test set\n",
    "start_time = time.time()\n",
    "y_pred = grid_search_linear.predict(X_test)\n",
    "end_time = time.time()\n",
    "\n",
    "test_time = end_time - start_time\n",
    "\n",
    "mse = mean_squared_error(y_test, y_pred)\n",
    "mae = mean_absolute_error(y_test, y_pred)\n",
    "print(f'Linear Regression MSE on test set: {mse:.4f}')\n",
    "print(f'Linear Regression MAE on test set: {mae:.4f}')\n",
    "\n",
    "# Evaluate the best model on the test set and create DataFrame with results\n",
    "result = pd.DataFrame({'comment': X_test,\n",
    "                        'actual': y_test,\n",
    "                        'predicted': grid_search_linear.predict(X_test)})\n",
    "result['predicted'] = result['predicted'].clip(lower=0, upper=9)  # Clip predictions to valid score range of 0 to 1\n",
    "\n",
    "# Print the DataFrame with results\n",
    "sorted_df = result.sort_values(by='predicted', ascending=False)\n",
    "\n",
    "print('train: %.4f' % train_time)\n",
    "print('test: %.4f' % test_time)\n",
    "\n",
    "for index, row in sorted_df.iterrows():\n",
    "    break\n",
    "    print(f\"comment: {row['comment']}\")\n",
    "    print(f\"actual: {row['actual']}\")\n",
    "    print(f\"predicted: {row['predicted']}\")\n",
    "    print('')\n",
    "\n",
    "joblib.dump(grid_search_linear, os.path.join(model_save_dir, 'linear_model.pkl'))"
   ]
  },
  {
   "cell_type": "markdown",
   "id": "d08a4d20",
   "metadata": {},
   "source": [
    "2. Support Vector Machine"
   ]
  },
  {
   "cell_type": "code",
   "execution_count": 4,
   "id": "3aeb28ee",
   "metadata": {},
   "outputs": [
    {
     "name": "stdout",
     "output_type": "stream",
     "text": [
      "Performing grid search for SVR...\n",
      "Fitting 5 folds for each of 18 candidates, totalling 90 fits\n"
     ]
    },
    {
     "name": "stderr",
     "output_type": "stream",
     "text": [
      "C:\\Users\\Pop\\anaconda3\\envs\\utcc\\lib\\site-packages\\sklearn\\feature_extraction\\text.py:528: UserWarning: The parameter 'token_pattern' will not be used since 'tokenizer' is not None'\n",
      "  warnings.warn(\n"
     ]
    },
    {
     "name": "stdout",
     "output_type": "stream",
     "text": [
      "Best hyperparameters for SVR: {'regressor__C': 1, 'regressor__gamma': 'scale', 'regressor__kernel': 'linear'}\n",
      "Mean test score: 0.4926\n",
      "SVM MSE on test set: 2.2989\n",
      "SVM MAE on test set: 1.2287\n",
      "train: 3.3642\n",
      "test: 0.0429\n"
     ]
    },
    {
     "data": {
      "text/plain": [
       "['C:\\\\Users\\\\Pop\\\\Documents\\\\GitHub\\\\utcc_independent_study\\\\training\\\\..\\\\model\\\\svm_model.pkl']"
      ]
     },
     "execution_count": 4,
     "metadata": {},
     "output_type": "execute_result"
    }
   ],
   "source": [
    "# Define the pipeline and parameter search space for SVR\n",
    "pipeline_svm = Pipeline([\n",
    "    ('tfidf', TfidfVectorizer(tokenizer=thai_tokenizer)),\n",
    "    ('regressor', SVR())\n",
    "])\n",
    "\n",
    "param_grid_svm = {\n",
    "    'regressor__kernel': ['linear', 'poly', 'rbf'],\n",
    "    'regressor__C': [0.1, 1, 10],\n",
    "    'regressor__gamma': ['scale', 'auto'],\n",
    "}\n",
    "\n",
    "# Perform the grid search for SVR\n",
    "print('Performing grid search for SVR...')\n",
    "grid_search_svm = GridSearchCV(\n",
    "    pipeline_svm,\n",
    "    param_grid=param_grid_svm,\n",
    "    cv=cv,\n",
    "    n_jobs=n_jobs,\n",
    "    verbose=verbose\n",
    ")\n",
    "\n",
    "# Fit the grid search object on the training data\n",
    "start_time = time.time()\n",
    "grid_search_svm.fit(X_train, y_train)\n",
    "end_time = time.time()\n",
    "\n",
    "train_time = end_time - start_time\n",
    "\n",
    "# Print the best hyperparameters and corresponding mean test score\n",
    "print(f'Best hyperparameters for SVR: {grid_search_svm.best_params_}')\n",
    "print(f'Mean test score: {grid_search_svm.best_score_:.4f}')\n",
    "\n",
    "# Evaluate the best model on the test set\n",
    "start_time = time.time()\n",
    "y_pred = grid_search_svm.predict(X_test)\n",
    "end_time = time.time()\n",
    "\n",
    "test_time = end_time - start_time\n",
    "\n",
    "mse = mean_squared_error(y_test, y_pred)\n",
    "mae = mean_absolute_error(y_test, y_pred)\n",
    "print(f'SVM MSE on test set: {mse:.4f}')\n",
    "print(f'SVM MAE on test set: {mae:.4f}')\n",
    "\n",
    "# Evaluate the best model on the test set and create DataFrame with results\n",
    "result = pd.DataFrame({'comment': X_test,\n",
    "                        'actual': y_test,\n",
    "                        'predicted': grid_search_svm.predict(X_test)})\n",
    "result['predicted'] = result['predicted'].clip(lower=0, upper=9)  # Clip predictions to valid score range of 0 to 1\n",
    "\n",
    "# Print the sorted DataFrame with results\n",
    "sorted_df = result.sort_values(by='predicted', ascending=False)\n",
    "\n",
    "print('train: %.4f' % train_time)\n",
    "print('test: %.4f' % test_time)\n",
    "\n",
    "for index, row in sorted_df.iterrows():\n",
    "    break\n",
    "    print(f\"comment: {row['comment']}\")\n",
    "    print(f\"actual: {row['actual']}\")\n",
    "    print(f\"predicted: {row['predicted']}\")\n",
    "    print('')\n",
    "    \n",
    "joblib.dump(grid_search_svm, os.path.join(model_save_dir, 'svm_model.pkl'))"
   ]
  },
  {
   "cell_type": "code",
   "execution_count": 5,
   "id": "fe6ee724",
   "metadata": {},
   "outputs": [
    {
     "name": "stdout",
     "output_type": "stream",
     "text": [
      "Performing grid search for DecisionTreeRegressor...\n",
      "Fitting 5 folds for each of 9 candidates, totalling 45 fits\n"
     ]
    },
    {
     "name": "stderr",
     "output_type": "stream",
     "text": [
      "C:\\Users\\Pop\\anaconda3\\envs\\utcc\\lib\\site-packages\\sklearn\\feature_extraction\\text.py:528: UserWarning: The parameter 'token_pattern' will not be used since 'tokenizer' is not None'\n",
      "  warnings.warn(\n"
     ]
    },
    {
     "name": "stdout",
     "output_type": "stream",
     "text": [
      "Best hyperparameters for DecisionTreeRegressor: {'regressor__max_depth': 10, 'regressor__min_samples_split': 10}\n",
      "Mean test score: 0.1556\n",
      "DecisionTreeRegressor MSE on test set: 4.8232\n",
      "DecisionTreeRegressor MAE on test set: 1.5534\n",
      "train: 2.2123\n",
      "test: 0.0380\n"
     ]
    },
    {
     "data": {
      "text/plain": [
       "['C:\\\\Users\\\\Pop\\\\Documents\\\\GitHub\\\\utcc_independent_study\\\\training\\\\..\\\\model\\\\tree_model.pkl']"
      ]
     },
     "execution_count": 5,
     "metadata": {},
     "output_type": "execute_result"
    }
   ],
   "source": [
    "pipeline_tree = Pipeline([\n",
    "    ('tfidf', TfidfVectorizer(tokenizer=thai_tokenizer)),\n",
    "    ('regressor', DecisionTreeRegressor())\n",
    "])\n",
    "\n",
    "param_grid_tree = {\n",
    "    'regressor__max_depth': [5, 10, 20],\n",
    "    'regressor__min_samples_split': [2, 5, 10]\n",
    "}\n",
    "\n",
    "# Perform the grid search for DecisionTreeRegressor\n",
    "print('Performing grid search for DecisionTreeRegressor...')\n",
    "grid_search_tree = GridSearchCV(\n",
    "    pipeline_tree,\n",
    "    param_grid=param_grid_tree,\n",
    "    cv=cv,\n",
    "    n_jobs=n_jobs,\n",
    "    verbose=verbose\n",
    ")\n",
    "\n",
    "# Fit the grid search object on the training data\n",
    "start_time = time.time()\n",
    "grid_search_tree.fit(X_train, y_train)\n",
    "end_time = time.time()\n",
    "\n",
    "train_time = end_time - start_time\n",
    "\n",
    "# Print the best hyperparameters and corresponding mean test score\n",
    "print(f'Best hyperparameters for DecisionTreeRegressor: {grid_search_tree.best_params_}')\n",
    "print(f'Mean test score: {grid_search_tree.best_score_:.4f}')\n",
    "\n",
    "# Evaluate the best model on the test set\n",
    "start_time = time.time()\n",
    "y_pred = grid_search_tree.predict(X_test)\n",
    "end_time = time.time()\n",
    "\n",
    "test_time = end_time - start_time\n",
    "\n",
    "mse = mean_squared_error(y_test, y_pred)\n",
    "mae = mean_absolute_error(y_test, y_pred)\n",
    "print(f'DecisionTreeRegressor MSE on test set: {mse:.4f}')\n",
    "print(f'DecisionTreeRegressor MAE on test set: {mae:.4f}')\n",
    "\n",
    "# Evaluate the best model on the test set and create DataFrame with results\n",
    "result = pd.DataFrame({'comment': X_test,\n",
    "                        'actual': y_test,\n",
    "                        'predicted': grid_search_tree.predict(X_test)})\n",
    "result['predicted'] = result['predicted'].clip(lower=0, upper=9)  # Clip predictions to valid score range of 0 to 1\n",
    "\n",
    "# Print the sorted DataFrame with results\n",
    "sorted_df = result.sort_values(by='predicted', ascending=False)\n",
    "\n",
    "print('train: %.4f' % train_time)\n",
    "print('test: %.4f' % test_time)\n",
    "\n",
    "for index, row in sorted_df.iterrows():\n",
    "    break\n",
    "    print(f\"comment: {row['comment']}\")\n",
    "    print(f\"actual: {row['actual']}\")\n",
    "    print(f\"predicted: {row['predicted']}\")\n",
    "    print('')\n",
    "    \n",
    "joblib.dump(grid_search_tree, os.path.join(model_save_dir, 'tree_model.pkl'))"
   ]
  },
  {
   "cell_type": "code",
   "execution_count": 6,
   "id": "ae418fd7",
   "metadata": {},
   "outputs": [
    {
     "name": "stdout",
     "output_type": "stream",
     "text": [
      "Performing grid search for KNeighborsRegressor...\n",
      "Fitting 5 folds for each of 12 candidates, totalling 60 fits\n"
     ]
    },
    {
     "name": "stderr",
     "output_type": "stream",
     "text": [
      "C:\\Users\\Pop\\anaconda3\\envs\\utcc\\lib\\site-packages\\sklearn\\feature_extraction\\text.py:528: UserWarning: The parameter 'token_pattern' will not be used since 'tokenizer' is not None'\n",
      "  warnings.warn(\n"
     ]
    },
    {
     "name": "stdout",
     "output_type": "stream",
     "text": [
      "Best hyperparameters for KNeighborsRegressor: {'regressor__n_neighbors': 15, 'regressor__p': 2, 'regressor__weights': 'distance'}\n",
      "Mean test score: 0.1095\n",
      "KNeighborsRegressor MSE on test set: 3.9512\n",
      "KNeighborsRegressor MAE on test set: 1.5595\n",
      "train: 2.2369\n",
      "test: 0.1621\n"
     ]
    },
    {
     "data": {
      "text/plain": [
       "['C:\\\\Users\\\\Pop\\\\Documents\\\\GitHub\\\\utcc_independent_study\\\\training\\\\..\\\\model\\\\knn_model.pkl']"
      ]
     },
     "execution_count": 6,
     "metadata": {},
     "output_type": "execute_result"
    }
   ],
   "source": [
    "pipeline_knn = Pipeline([\n",
    "    ('tfidf', TfidfVectorizer(tokenizer=thai_tokenizer)),\n",
    "    ('regressor', KNeighborsRegressor())\n",
    "])\n",
    "\n",
    "param_grid_knn = {\n",
    "    'regressor__n_neighbors': [5, 10, 15],\n",
    "    'regressor__weights': ['uniform', 'distance'],\n",
    "    'regressor__p': [1, 2]\n",
    "}\n",
    "\n",
    "# Perform the grid search for KNeighborsRegressor\n",
    "print('Performing grid search for KNeighborsRegressor...')\n",
    "grid_search_knn = GridSearchCV(\n",
    "    pipeline_knn,\n",
    "    param_grid=param_grid_knn,\n",
    "    cv=cv,\n",
    "    n_jobs=n_jobs,\n",
    "    verbose=verbose\n",
    ")\n",
    "\n",
    "# Fit the grid search object on the training data\n",
    "start_time = time.time()\n",
    "grid_search_knn.fit(X_train, y_train)\n",
    "end_time = time.time()\n",
    "\n",
    "train_time = end_time - start_time\n",
    "\n",
    "# Print the best hyperparameters and corresponding mean test score\n",
    "print(f'Best hyperparameters for KNeighborsRegressor: {grid_search_knn.best_params_}')\n",
    "print(f'Mean test score: {grid_search_knn.best_score_:.4f}')\n",
    "\n",
    "# Evaluate the best model on the test set\n",
    "start_time = time.time()\n",
    "y_pred = grid_search_knn.predict(X_test)\n",
    "end_time = time.time()\n",
    "\n",
    "test_time = end_time - start_time\n",
    "\n",
    "mse = mean_squared_error(y_test, y_pred)\n",
    "mae = mean_absolute_error(y_test, y_pred)\n",
    "print(f'KNeighborsRegressor MSE on test set: {mse:.4f}')\n",
    "print(f'KNeighborsRegressor MAE on test set: {mae:.4f}')\n",
    "\n",
    "# Evaluate the best model on the test set and create DataFrame with results\n",
    "result = pd.DataFrame({'comment': X_test,\n",
    "                        'actual': y_test,\n",
    "                        'predicted': grid_search_knn.predict(X_test)})\n",
    "result['predicted'] = result['predicted'].clip(lower=0, upper=9)  # Clip predictions to valid score range of 0 to 1\n",
    "\n",
    "# Print the sorted DataFrame with results\n",
    "sorted_df = result.sort_values(by='predicted', ascending=False)\n",
    "\n",
    "print('train: %.4f' % train_time)\n",
    "print('test: %.4f' % test_time)\n",
    "\n",
    "for index, row in sorted_df.iterrows():\n",
    "    break\n",
    "    print(f\"comment: {row['comment']}\")\n",
    "    print(f\"actual: {row['actual']}\")\n",
    "    print(f\"predicted: {row['predicted']}\")\n",
    "    print('')\n",
    "    \n",
    "joblib.dump(grid_search_knn, os.path.join(model_save_dir, 'knn_model.pkl'))"
   ]
  },
  {
   "cell_type": "code",
   "execution_count": 14,
   "id": "2399bd1a",
   "metadata": {},
   "outputs": [
    {
     "name": "stdout",
     "output_type": "stream",
     "text": [
      "c: สินค้าดี เจ๋งสุดๆ\n",
      "p: 10.117131330550155\n",
      "\n",
      "c: ไม่ดี\n",
      "p: 1.8893167150926962\n",
      "\n"
     ]
    }
   ],
   "source": [
    "# os.path.join(model_save_dir, 'linear_model.pkl')\n",
    "# os.path.join(model_save_dir, 'knn_model.pkl')\n",
    "# os.path.join(model_save_dir, 'tree_model.pkl')\n",
    "# os.path.join(model_save_dir, 'svm_model.pkl')\n",
    "\n",
    "model = joblib.load(os.path.join(model_save_dir, 'linear_model.pkl'))\n",
    "\n",
    "# Make predictions on new data\n",
    "new_data = ['สินค้าดี เจ๋งสุดๆ', 'ไม่ดี']\n",
    "predictions = model.predict(new_data)\n",
    "\n",
    "# Print the predicted scores and comments\n",
    "for i in range(len(new_data)):\n",
    "    print(f\"c: {new_data[i]}\")\n",
    "    print(f\"p: {predictions[i]}\")\n",
    "    print('')"
   ]
  },
  {
   "cell_type": "code",
   "execution_count": null,
   "id": "6a756c58",
   "metadata": {},
   "outputs": [],
   "source": []
  }
 ],
 "metadata": {
  "kernelspec": {
   "display_name": "Python 3 (ipykernel)",
   "language": "python",
   "name": "python3"
  },
  "language_info": {
   "codemirror_mode": {
    "name": "ipython",
    "version": 3
   },
   "file_extension": ".py",
   "mimetype": "text/x-python",
   "name": "python",
   "nbconvert_exporter": "python",
   "pygments_lexer": "ipython3",
   "version": "3.8.16"
  }
 },
 "nbformat": 4,
 "nbformat_minor": 5
}
