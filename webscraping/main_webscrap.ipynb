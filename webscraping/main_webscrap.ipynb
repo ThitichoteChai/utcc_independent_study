{
 "cells": [
  {
   "cell_type": "markdown",
   "id": "6c927c98",
   "metadata": {},
   "source": [
    "1. Install Package"
   ]
  },
  {
   "cell_type": "code",
   "execution_count": 7,
   "id": "cefbd844",
   "metadata": {},
   "outputs": [
    {
     "name": "stdout",
     "output_type": "stream",
     "text": [
      "Package 'beautifulsoup4' is already installed.\n",
      "Package 'requests' is already installed.\n",
      "Package 'pip-system-certs' is already installed.\n",
      "Package 'pyopenssl' is already installed.\n",
      "Package 'selenium' is already installed.\n",
      "Package 'webdriver-manager' is already installed.\n",
      "Package 'datefinder' is already installed.\n",
      "Package 'pygame' is already installed.\n",
      "Package 'termcolor' is already installed.\n"
     ]
    }
   ],
   "source": [
    "import os\n",
    "current_dir = os.getcwd()\n",
    "installer_path = os.path.join(current_dir, \"installer.py\")\n",
    "%run $installer_path"
   ]
  },
  {
   "cell_type": "markdown",
   "id": "427607d0",
   "metadata": {},
   "source": [
    "2. Open Website"
   ]
  },
  {
   "cell_type": "code",
   "execution_count": 18,
   "id": "9bc22c48",
   "metadata": {},
   "outputs": [
    {
     "ename": "SyntaxError",
     "evalue": "invalid syntax (process.py, line 20)",
     "output_type": "error",
     "traceback": [
      "\u001b[1;36m  File \u001b[1;32m~\\Documents\\GitHub\\utcc_independent_study\\webscraping\\process.py:20\u001b[1;36m\u001b[0m\n\u001b[1;33m    except:\u001b[0m\n\u001b[1;37m    ^\u001b[0m\n\u001b[1;31mSyntaxError\u001b[0m\u001b[1;31m:\u001b[0m invalid syntax\n"
     ]
    }
   ],
   "source": [
    "open_path = os.path.join(current_dir, \"open_website.py\")\n",
    "run_path = os.path.join(current_dir, \"process.py\")\n",
    "%run $open_path\n",
    "%run $run_path"
   ]
  },
  {
   "cell_type": "code",
   "execution_count": 16,
   "id": "a774e433",
   "metadata": {},
   "outputs": [
    {
     "name": "stdout",
     "output_type": "stream",
     "text": [
      "*** Shopee open successful ***\n",
      "number of product: 1\n",
      "number of product: 2\n"
     ]
    },
    {
     "ename": "NameError",
     "evalue": "name 'Fore' is not defined",
     "output_type": "error",
     "traceback": [
      "\u001b[1;31m---------------------------------------------------------------------------\u001b[0m",
      "\u001b[1;31mTimeoutException\u001b[0m                          Traceback (most recent call last)",
      "File \u001b[1;32m~\\Documents\\GitHub\\utcc_independent_study\\webscraping\\process.py:13\u001b[0m, in \u001b[0;36mloop_product\u001b[1;34m(driver, products)\u001b[0m\n\u001b[0;32m     12\u001b[0m \u001b[38;5;28;01mtry\u001b[39;00m:\n\u001b[1;32m---> 13\u001b[0m     click \u001b[38;5;241m=\u001b[39m \u001b[43mWebDriverWait\u001b[49m\u001b[43m(\u001b[49m\u001b[43mdriver\u001b[49m\u001b[43m,\u001b[49m\u001b[43m \u001b[49m\u001b[38;5;241;43m20\u001b[39;49m\u001b[43m)\u001b[49m\u001b[38;5;241;43m.\u001b[39;49m\u001b[43muntil\u001b[49m\u001b[43m(\u001b[49m\u001b[43mEC\u001b[49m\u001b[38;5;241;43m.\u001b[39;49m\u001b[43melement_to_be_clickable\u001b[49m\u001b[43m(\u001b[49m\u001b[43m(\u001b[49m\u001b[38;5;124;43m'\u001b[39;49m\u001b[38;5;124;43mxpath\u001b[39;49m\u001b[38;5;124;43m'\u001b[39;49m\u001b[43m,\u001b[49m\u001b[38;5;124;43mf\u001b[39;49m\u001b[38;5;124;43m\"\u001b[39;49m\u001b[38;5;124;43m//*[contains(concat(\u001b[39;49m\u001b[38;5;124;43m'\u001b[39;49m\u001b[38;5;124;43m'\u001b[39;49m\u001b[38;5;124;43m,@class,\u001b[39;49m\u001b[38;5;124;43m'\u001b[39;49m\u001b[38;5;124;43m'\u001b[39;49m\u001b[38;5;124;43m), \u001b[39;49m\u001b[38;5;124;43m'\u001b[39;49m\u001b[38;5;124;43mrow shopee-search-item-result__items\u001b[39;49m\u001b[38;5;124;43m'\u001b[39;49m\u001b[38;5;124;43m)]/div[\u001b[39;49m\u001b[38;5;132;43;01m{\u001b[39;49;00m\u001b[43mproduct\u001b[49m\u001b[38;5;132;43;01m}\u001b[39;49;00m\u001b[38;5;124;43m]\u001b[39;49m\u001b[38;5;124;43m\"\u001b[39;49m\u001b[43m)\u001b[49m\u001b[43m)\u001b[49m\u001b[43m)\u001b[49m\n\u001b[0;32m     14\u001b[0m     click \u001b[38;5;241m=\u001b[39m driver\u001b[38;5;241m.\u001b[39mfind_element(\u001b[38;5;124m'\u001b[39m\u001b[38;5;124mxpath\u001b[39m\u001b[38;5;124m'\u001b[39m,\u001b[38;5;124mf\u001b[39m\u001b[38;5;124m\"\u001b[39m\u001b[38;5;124m//*[contains(concat(\u001b[39m\u001b[38;5;124m'\u001b[39m\u001b[38;5;124m'\u001b[39m\u001b[38;5;124m,@class,\u001b[39m\u001b[38;5;124m'\u001b[39m\u001b[38;5;124m'\u001b[39m\u001b[38;5;124m), \u001b[39m\u001b[38;5;124m'\u001b[39m\u001b[38;5;124mrow shopee-search-item-result__items\u001b[39m\u001b[38;5;124m'\u001b[39m\u001b[38;5;124m)]/div[\u001b[39m\u001b[38;5;132;01m{\u001b[39;00mproduct\u001b[38;5;132;01m}\u001b[39;00m\u001b[38;5;124m]\u001b[39m\u001b[38;5;124m\"\u001b[39m)\n",
      "File \u001b[1;32m~\\anaconda3\\envs\\utcc\\lib\\site-packages\\selenium\\webdriver\\support\\wait.py:95\u001b[0m, in \u001b[0;36mWebDriverWait.until\u001b[1;34m(self, method, message)\u001b[0m\n\u001b[0;32m     94\u001b[0m         \u001b[38;5;28;01mbreak\u001b[39;00m\n\u001b[1;32m---> 95\u001b[0m \u001b[38;5;28;01mraise\u001b[39;00m TimeoutException(message, screen, stacktrace)\n",
      "\u001b[1;31mTimeoutException\u001b[0m: Message: \nStacktrace:\nBacktrace:\n\tGetHandleVerifier [0x0024DCE3+50899]\n\t(No symbol) [0x001DE111]\n\t(No symbol) [0x000E5588]\n\t(No symbol) [0x001108F9]\n\t(No symbol) [0x00110AFB]\n\t(No symbol) [0x0013F902]\n\t(No symbol) [0x0012B944]\n\t(No symbol) [0x0013E01C]\n\t(No symbol) [0x0012B6F6]\n\t(No symbol) [0x00107708]\n\t(No symbol) [0x0010886D]\n\tGetHandleVerifier [0x004B3EAE+2566302]\n\tGetHandleVerifier [0x004E92B1+2784417]\n\tGetHandleVerifier [0x004E327C+2759788]\n\tGetHandleVerifier [0x002E5740+672048]\n\t(No symbol) [0x001E8872]\n\t(No symbol) [0x001E41C8]\n\t(No symbol) [0x001E42AB]\n\t(No symbol) [0x001D71B7]\n\tBaseThreadInitThunk [0x76DD0099+25]\n\tRtlGetAppContainerNamedObjectPath [0x77237B6E+286]\n\tRtlGetAppContainerNamedObjectPath [0x77237B3E+238]\n\t(No symbol) [0x00000000]\n",
      "\nDuring handling of the above exception, another exception occurred:\n",
      "\u001b[1;31mNameError\u001b[0m                                 Traceback (most recent call last)",
      "Cell \u001b[1;32mIn[16], line 5\u001b[0m\n\u001b[0;32m      2\u001b[0m driver \u001b[38;5;241m=\u001b[39m get_webpage(url)\n\u001b[0;32m      4\u001b[0m products \u001b[38;5;241m=\u001b[39m \u001b[38;5;241m3\u001b[39m\n\u001b[1;32m----> 5\u001b[0m driver \u001b[38;5;241m=\u001b[39m \u001b[43mloop_product\u001b[49m\u001b[43m(\u001b[49m\u001b[43mdriver\u001b[49m\u001b[43m,\u001b[49m\u001b[43m \u001b[49m\u001b[43mproducts\u001b[49m\u001b[43m)\u001b[49m\n",
      "File \u001b[1;32m~\\Documents\\GitHub\\utcc_independent_study\\webscraping\\process.py:17\u001b[0m, in \u001b[0;36mloop_product\u001b[1;34m(driver, products)\u001b[0m\n\u001b[0;32m     15\u001b[0m             click\u001b[38;5;241m.\u001b[39mclick()\n\u001b[0;32m     16\u001b[0m         \u001b[38;5;28;01mexcept\u001b[39;00m:\n\u001b[1;32m---> 17\u001b[0m             \u001b[38;5;28mprint\u001b[39m(\u001b[43mFore\u001b[49m\u001b[38;5;241m.\u001b[39mRED \u001b[38;5;241m+\u001b[39m \u001b[38;5;124m'\u001b[39m\u001b[38;5;124mProblem with product window\u001b[39m\u001b[38;5;124m'\u001b[39m \u001b[38;5;241m+\u001b[39m Style\u001b[38;5;241m.\u001b[39mRESET_ALL)\n\u001b[0;32m     18\u001b[0m             driver\u001b[38;5;241m.\u001b[39mimplicitly_wait(\u001b[38;5;241m1\u001b[39m)\n\u001b[0;32m     20\u001b[0m \u001b[38;5;66;03m# go back\u001b[39;00m\n",
      "\u001b[1;31mNameError\u001b[0m: name 'Fore' is not defined"
     ]
    }
   ],
   "source": [
    "url = 'https://shopee.co.th/search?keyword=ขาตั้งกล้องมือถือ'\n",
    "driver = get_webpage(url)\n",
    "\n",
    "products = 3\n",
    "driver = loop_product(driver, products)"
   ]
  },
  {
   "cell_type": "code",
   "execution_count": null,
   "id": "2a8a4a57",
   "metadata": {},
   "outputs": [],
   "source": [
    "%run $gui_path"
   ]
  },
  {
   "cell_type": "code",
   "execution_count": null,
   "id": "8e77fbea",
   "metadata": {},
   "outputs": [],
   "source": [
    "data = [\n",
    "    {'label': 'หูฟังไร้สาย', 'url': 'https://shopee.co.th/search?keyword=หูฟังไร้สาย'},\n",
    "    {'label': 'กล้องโกโปร', 'url': 'https://shopee.co.th/search?keyword=กล้องโกโปร'},    \n",
    "    {'label': 'เครื่องฟอกอากาศ', 'url': 'https://shopee.co.th/search?keyword=เครื่องฟอกอากาศ'},\n",
    "    {'label': 'คีย์บอร์ดและเมาส์บลูทูธ', 'url': 'https://shopee.co.th/search?keyword=คีย์บอร์ดและเมาส์บลูทูธ'},\n",
    "    {'label': 'แท่นชาร์จไร้สาย', 'url': 'https://shopee.co.th/search?keyword=แท่นชาร์จไร้สาย'},\n",
    "    {'label': 'ลำโพงบลูทูธ', 'url': 'https://shopee.co.th/search?keyword=ลำโพงบลูทูธ'},\n",
    "    {'label': 'โปรเจคเตอร์', 'url': 'https://shopee.co.th/search?keyword=โปรเจคเตอร์'},\n",
    "    {'label': 'สมาร์ทวอทช์', 'url': 'https://shopee.co.th/search?keyword=สมาร์ทวอทช์'},\n",
    "    {'label': 'ปากกาสไตลัส', 'url': 'https://shopee.co.th/search?keyword=ปากกาสไตลัส'},\n",
    "    {'label': 'ขาตั้งกล้องมือถือ', 'url': 'https://shopee.co.th/search?keyword=ขาตั้งกล้องมือถือ'}\n",
    "]\n",
    "\n",
    "result = {}\n",
    "for item in data:\n",
    "    result[item['label']] = item['url']\n",
    "    \n",
    "print(result)"
   ]
  },
  {
   "cell_type": "code",
   "execution_count": null,
   "id": "1953bcce",
   "metadata": {},
   "outputs": [],
   "source": [
    "for i in result:\n",
    "    print(i)"
   ]
  },
  {
   "cell_type": "code",
   "execution_count": 9,
   "id": "dd1869e6",
   "metadata": {},
   "outputs": [],
   "source": [
    "import importlib\n",
    "logging = importlib.import_module('logging')"
   ]
  },
  {
   "cell_type": "code",
   "execution_count": null,
   "id": "80ac42ab",
   "metadata": {},
   "outputs": [],
   "source": []
  }
 ],
 "metadata": {
  "kernelspec": {
   "display_name": "Python 3 (ipykernel)",
   "language": "python",
   "name": "python3"
  },
  "language_info": {
   "codemirror_mode": {
    "name": "ipython",
    "version": 3
   },
   "file_extension": ".py",
   "mimetype": "text/x-python",
   "name": "python",
   "nbconvert_exporter": "python",
   "pygments_lexer": "ipython3",
   "version": "3.8.16"
  }
 },
 "nbformat": 4,
 "nbformat_minor": 5
}
