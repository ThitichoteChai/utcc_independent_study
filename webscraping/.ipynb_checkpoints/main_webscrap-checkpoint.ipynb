{
 "cells": [
  {
   "cell_type": "code",
   "execution_count": 1,
   "id": "c0ad6fe4",
   "metadata": {},
   "outputs": [
    {
     "name": "stdout",
     "output_type": "stream",
     "text": [
      "Package 'beautifulsoup4' is already installed.\n",
      "Package 'requests' is already installed.\n",
      "Package 'pip-system-certs' is already installed.\n",
      "Package 'pyopenssl' is already installed.\n",
      "Package 'selenium' is already installed.\n",
      "Package 'webdriver-manager' is already installed.\n",
      "Package 'datefinder' is already installed.\n",
      "Package 'pygame' is already installed.\n",
      "Package 'termcolor' is already installed.\n"
     ]
    }
   ],
   "source": [
    "import os\n",
    "\n",
    "current_dir = os.getcwd()\n",
    "installer_path = os.path.join(current_dir, \"installer.py\")\n",
    "open_path = os.path.join(current_dir, \"open_website.py\")\n",
    "gui_path = os.path.join(current_dir, \"gui.py\")\n",
    "\n",
    "%run $installer_path"
   ]
  },
  {
   "cell_type": "code",
   "execution_count": null,
   "id": "9bc22c48",
   "metadata": {},
   "outputs": [],
   "source": [
    "%run $open_path\n",
    "url = 'https://shopee.co.th/search?keyword=ขาตั้งกล้องมือถือ'"
   ]
  },
  {
   "cell_type": "code",
   "execution_count": null,
   "id": "2a8a4a57",
   "metadata": {},
   "outputs": [],
   "source": [
    "%run $gui_path"
   ]
  },
  {
   "cell_type": "code",
   "execution_count": 10,
   "id": "8e77fbea",
   "metadata": {},
   "outputs": [
    {
     "name": "stdout",
     "output_type": "stream",
     "text": [
      "{'หูฟังไร้สาย': 'https://shopee.co.th/search?keyword=หูฟังไร้สาย', 'กล้องโกโปร': 'https://shopee.co.th/search?keyword=กล้องโกโปร', 'เครื่องฟอกอากาศ': 'https://shopee.co.th/search?keyword=เครื่องฟอกอากาศ', 'คีย์บอร์ดและเมาส์บลูทูธ': 'https://shopee.co.th/search?keyword=คีย์บอร์ดและเมาส์บลูทูธ', 'แท่นชาร์จไร้สาย': 'https://shopee.co.th/search?keyword=แท่นชาร์จไร้สาย', 'ลำโพงบลูทูธ': 'https://shopee.co.th/search?keyword=ลำโพงบลูทูธ', 'โปรเจคเตอร์': 'https://shopee.co.th/search?keyword=โปรเจคเตอร์', 'สมาร์ทวอทช์': 'https://shopee.co.th/search?keyword=สมาร์ทวอทช์', 'ปากกาสไตลัส': 'https://shopee.co.th/search?keyword=ปากกาสไตลัส', 'ขาตั้งกล้องมือถือ': 'https://shopee.co.th/search?keyword=ขาตั้งกล้องมือถือ'}\n"
     ]
    }
   ],
   "source": [
    "data = [\n",
    "    {'label': 'หูฟังไร้สาย', 'url': 'https://shopee.co.th/search?keyword=หูฟังไร้สาย'},\n",
    "    {'label': 'กล้องโกโปร', 'url': 'https://shopee.co.th/search?keyword=กล้องโกโปร'},    \n",
    "    {'label': 'เครื่องฟอกอากาศ', 'url': 'https://shopee.co.th/search?keyword=เครื่องฟอกอากาศ'},\n",
    "    {'label': 'คีย์บอร์ดและเมาส์บลูทูธ', 'url': 'https://shopee.co.th/search?keyword=คีย์บอร์ดและเมาส์บลูทูธ'},\n",
    "    {'label': 'แท่นชาร์จไร้สาย', 'url': 'https://shopee.co.th/search?keyword=แท่นชาร์จไร้สาย'},\n",
    "    {'label': 'ลำโพงบลูทูธ', 'url': 'https://shopee.co.th/search?keyword=ลำโพงบลูทูธ'},\n",
    "    {'label': 'โปรเจคเตอร์', 'url': 'https://shopee.co.th/search?keyword=โปรเจคเตอร์'},\n",
    "    {'label': 'สมาร์ทวอทช์', 'url': 'https://shopee.co.th/search?keyword=สมาร์ทวอทช์'},\n",
    "    {'label': 'ปากกาสไตลัส', 'url': 'https://shopee.co.th/search?keyword=ปากกาสไตลัส'},\n",
    "    {'label': 'ขาตั้งกล้องมือถือ', 'url': 'https://shopee.co.th/search?keyword=ขาตั้งกล้องมือถือ'}\n",
    "]\n",
    "\n",
    "result = {}\n",
    "for item in data:\n",
    "    result[item['label']] = item['url']\n",
    "    \n",
    "print(result)"
   ]
  },
  {
   "cell_type": "code",
   "execution_count": 14,
   "id": "1953bcce",
   "metadata": {},
   "outputs": [
    {
     "name": "stdout",
     "output_type": "stream",
     "text": [
      "หูฟังไร้สาย\n",
      "กล้องโกโปร\n",
      "เครื่องฟอกอากาศ\n",
      "คีย์บอร์ดและเมาส์บลูทูธ\n",
      "แท่นชาร์จไร้สาย\n",
      "ลำโพงบลูทูธ\n",
      "โปรเจคเตอร์\n",
      "สมาร์ทวอทช์\n",
      "ปากกาสไตลัส\n",
      "ขาตั้งกล้องมือถือ\n"
     ]
    }
   ],
   "source": [
    "for i in result:\n",
    "    print(i)"
   ]
  },
  {
   "cell_type": "code",
   "execution_count": null,
   "id": "dd1869e6",
   "metadata": {},
   "outputs": [],
   "source": []
  }
 ],
 "metadata": {
  "kernelspec": {
   "display_name": "Python 3 (ipykernel)",
   "language": "python",
   "name": "python3"
  },
  "language_info": {
   "codemirror_mode": {
    "name": "ipython",
    "version": 3
   },
   "file_extension": ".py",
   "mimetype": "text/x-python",
   "name": "python",
   "nbconvert_exporter": "python",
   "pygments_lexer": "ipython3",
   "version": "3.10.9"
  }
 },
 "nbformat": 4,
 "nbformat_minor": 5
}
