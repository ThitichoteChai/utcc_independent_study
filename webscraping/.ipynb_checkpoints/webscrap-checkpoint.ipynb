{
 "cells": [
  {
   "cell_type": "code",
   "execution_count": 13,
   "id": "7138d64d",
   "metadata": {},
   "outputs": [
    {
     "name": "stdout",
     "output_type": "stream",
     "text": [
      "Package 'beautifulsoup4' is already installed.\n",
      "Package 'requests' is already installed.\n",
      "Package 'pip-system-certs' is already installed.\n",
      "Package 'pyopenssl' is already installed.\n",
      "Package 'selenium' is already installed.\n",
      "Package 'webdriver-manager' is already installed.\n",
      "Package 'datefinder' is already installed.\n",
      "Package 'pygame' is already installed.\n",
      "Package 'termcolor' is already installed.\n"
     ]
    }
   ],
   "source": [
    "import os\n",
    "\n",
    "current_dir = os.getcwd()\n",
    "\n",
    "installer_path = os.path.join(current_dir, \"installer.py\")\n",
    "%run $installer_path\n",
    "\n",
    "open_path = os.path.join(current_dir, \"open_website.py\")\n",
    "%run $open_path\n",
    "\n",
    "classinfo_path = os.path.join(current_dir, \"class_info.py\")\n",
    "%run $classinfo_path\n",
    "\n",
    "run_path = os.path.join(current_dir, \"process.py\")\n",
    "%run $run_path"
   ]
  },
  {
   "cell_type": "code",
   "execution_count": 14,
   "id": "d9c4e7b7",
   "metadata": {},
   "outputs": [
    {
     "name": "stdout",
     "output_type": "stream",
     "text": [
      "*** Shopee open successful ***\n",
      "number of product: 1\n",
      "ใหม่ L16 ขาตั้งกล้องไม้เซลฟี่ไร้สาย 1.55m. พับได้มาพร้อมรีโมทบลูทูธ พิเศษสามารถใช้กล้องแอคชั่น Gopro สมาร์ทโฟนได้\n",
      "https://shopee.co.th/%E0%B9%83%E0%B8%AB%E0%B8%A1%E0%B9%88-L16-%E0%B8%82%E0%B8%B2%E0%B8%95%E0%B8%B1%E0%B9%89%E0%B8%87%E0%B8%81%E0%B8%A5%E0%B9%89%E0%B8%AD%E0%B8%87%E0%B9%84%E0%B8%A1%E0%B9%89%E0%B9%80%E0%B8%8B%E0%B8%A5%E0%B8%9F%E0%B8%B5%E0%B9%88%E0%B9%84%E0%B8%A3%E0%B9%89%E0%B8%AA%E0%B8%B2%E0%B8%A2-1.55m.-%E0%B8%9E%E0%B8%B1%E0%B8%9A%E0%B9%84%E0%B8%94%E0%B9%89%E0%B8%A1%E0%B8%B2%E0%B8%9E%E0%B8%A3%E0%B9%89%E0%B8%AD%E0%B8%A1%E0%B8%A3%E0%B8%B5%E0%B9%82%E0%B8%A1%E0%B8%97%E0%B8%9A%E0%B8%A5%E0%B8%B9%E0%B8%97%E0%B8%B9%E0%B8%98-%E0%B8%9E%E0%B8%B4%E0%B9%80%E0%B8%A8%E0%B8%A9%E0%B8%AA%E0%B8%B2%E0%B8%A1%E0%B8%B2%E0%B8%A3%E0%B8%96%E0%B9%83%E0%B8%8A%E0%B9%89%E0%B8%81%E0%B8%A5%E0%B9%89%E0%B8%AD%E0%B8%87%E0%B9%81%E0%B8%AD%E0%B8%84%E0%B8%8A%E0%B8%B1%E0%B9%88%E0%B8%99-Gopro-%E0%B8%AA%E0%B8%A1%E0%B8%B2%E0%B8%A3%E0%B9%8C%E0%B8%97%E0%B9%82%E0%B8%9F%E0%B8%99%E0%B9%84%E0%B8%94%E0%B9%89-i.392063418.19370547816?sp_atk=15f493db-2b5d-4ef5-b5c6-a04936464587&xptdk=15f493db-2b5d-4ef5-b5c6-a04936464587\n",
      "Mobile & Gadgets Mobile Accessories Selfie Accessories\n",
      "number of product: 2\n",
      "UPick1 ชุดขาตั้งกล้องเซลฟี่ （ปรับได้สูงสุด 210cm, ขั้นต่ำ 72cm ) + รีโมทบลูทูธ หัวต่อมือถือ รุ่นTripod\n",
      "https://shopee.co.th/UPick1-%E0%B8%8A%E0%B8%B8%E0%B8%94%E0%B8%82%E0%B8%B2%E0%B8%95%E0%B8%B1%E0%B9%89%E0%B8%87%E0%B8%81%E0%B8%A5%E0%B9%89%E0%B8%AD%E0%B8%87%E0%B9%80%E0%B8%8B%E0%B8%A5%E0%B8%9F%E0%B8%B5%E0%B9%88-%EF%BC%88%E0%B8%9B%E0%B8%A3%E0%B8%B1%E0%B8%9A%E0%B9%84%E0%B8%94%E0%B9%89%E0%B8%AA%E0%B8%B9%E0%B8%87%E0%B8%AA%E0%B8%B8%E0%B8%94-210cm-%E0%B8%82%E0%B8%B1%E0%B9%89%E0%B8%99%E0%B8%95%E0%B9%88%E0%B8%B3-72cm-)-%E0%B8%A3%E0%B8%B5%E0%B9%82%E0%B8%A1%E0%B8%97%E0%B8%9A%E0%B8%A5%E0%B8%B9%E0%B8%97%E0%B8%B9%E0%B8%98-%E0%B8%AB%E0%B8%B1%E0%B8%A7%E0%B8%95%E0%B9%88%E0%B8%AD%E0%B8%A1%E0%B8%B7%E0%B8%AD%E0%B8%96%E0%B8%B7%E0%B8%AD-%E0%B8%A3%E0%B8%B8%E0%B9%88%E0%B8%99Tripod-i.119241309.5161419808?sp_atk=a487de8e-9e05-430a-8616-dda0203b15be&xptdk=a487de8e-9e05-430a-8616-dda0203b15be\n",
      "Cameras Camera Accessories Tripods and Monopods\n",
      "number of product: 3\n",
      "{ใส่โค้ด DFENS333 ลด 15%}🔥ชุดขาตั้งกล้องเซลฟี่ LIVE สด ที่จับกล้องมือถือ ขาตั้งไฟไลฟ์สด สูง 210CM ขาตั้งกล้อง3ขา\n",
      "https://shopee.co.th/-%E0%B9%83%E0%B8%AA%E0%B9%88%E0%B9%82%E0%B8%84%E0%B9%89%E0%B8%94-DFENS333-%E0%B8%A5%E0%B8%94-15-%F0%9F%94%A5%E0%B8%8A%E0%B8%B8%E0%B8%94%E0%B8%82%E0%B8%B2%E0%B8%95%E0%B8%B1%E0%B9%89%E0%B8%87%E0%B8%81%E0%B8%A5%E0%B9%89%E0%B8%AD%E0%B8%87%E0%B9%80%E0%B8%8B%E0%B8%A5%E0%B8%9F%E0%B8%B5%E0%B9%88-LIVE-%E0%B8%AA%E0%B8%94-%E0%B8%97%E0%B8%B5%E0%B9%88%E0%B8%88%E0%B8%B1%E0%B8%9A%E0%B8%81%E0%B8%A5%E0%B9%89%E0%B8%AD%E0%B8%87%E0%B8%A1%E0%B8%B7%E0%B8%AD%E0%B8%96%E0%B8%B7%E0%B8%AD-%E0%B8%82%E0%B8%B2%E0%B8%95%E0%B8%B1%E0%B9%89%E0%B8%87%E0%B9%84%E0%B8%9F%E0%B9%84%E0%B8%A5%E0%B8%9F%E0%B9%8C%E0%B8%AA%E0%B8%94-%E0%B8%AA%E0%B8%B9%E0%B8%87-210CM-%E0%B8%82%E0%B8%B2%E0%B8%95%E0%B8%B1%E0%B9%89%E0%B8%87%E0%B8%81%E0%B8%A5%E0%B9%89%E0%B8%AD%E0%B8%873%E0%B8%82%E0%B8%B2-i.131123580.16006491640?sp_atk=83ca29cf-1b1f-4c03-9ec7-47bd6fbb5f19&xptdk=83ca29cf-1b1f-4c03-9ec7-47bd6fbb5f19\n",
      "Cameras Camera Accessories Tripods and Monopods\n"
     ]
    }
   ],
   "source": [
    "save_path = os.path.join(current_dir, \"..\\\\data\")\n",
    "\n",
    "fin = []\n",
    "\n",
    "url = 'https://shopee.co.th/search?keyword=ขาตั้งกล้องมือถือ'\n",
    "driver = get_webpage(url)\n",
    "\n",
    "products = 3\n",
    "driver = loop_product(driver, products)\n",
    "\n",
    "try: \n",
    "    loop_product(driver)\n",
    "except Exception as e:\n",
    "    print(e)\n",
    "    df = pd.DataFrame(fin, columns=[\"product_url\", \"product_name\", \"overall_rate\", \"cat_1\", \"cat_2\", \"cat_3\", \"date\",\"num_like\", \"review_stars\", \"comment\"])\n",
    "    df.to_csv(r'{}\\{}.csv'.format(file_location, filename), encoding='utf-8-sig', index=False)\n",
    "    sleep(10)\n",
    "    play_song()\n",
    "\n",
    "df = pd.DataFrame(fin, columns=[\"product_url\", \"product_name\", \"overall_rate\", \"cat_1\", \"cat_2\", \"cat_3\", \"date\",\"num_like\", \"review_stars\", \"comment\"])\n",
    "df.to_csv(r'{}\\{}.csv'.format(file_location, filename), encoding='utf-8-sig', index=False)\n",
    "\n",
    "print('successful')"
   ]
  },
  {
   "cell_type": "code",
   "execution_count": 21,
   "id": "d8bcb0fc",
   "metadata": {},
   "outputs": [
    {
     "data": {
      "text/plain": [
       "'C:\\\\Users\\\\Pop\\\\Documents\\\\GitHub\\\\utcc_independent_study\\\\webscraping\\\\..\\\\data'"
      ]
     },
     "execution_count": 21,
     "metadata": {},
     "output_type": "execute_result"
    }
   ],
   "source": [
    "\n",
    "save_path"
   ]
  },
  {
   "cell_type": "code",
   "execution_count": 18,
   "id": "bda957c8",
   "metadata": {},
   "outputs": [
    {
     "data": {
      "text/plain": [
       "'C:\\\\Users\\\\Pop\\\\Documents\\\\GitHub\\\\utcc_independent_study\\\\webscraping\\\\utility'"
      ]
     },
     "execution_count": 18,
     "metadata": {},
     "output_type": "execute_result"
    }
   ],
   "source": []
  },
  {
   "cell_type": "code",
   "execution_count": null,
   "id": "f67bf669",
   "metadata": {},
   "outputs": [],
   "source": []
  }
 ],
 "metadata": {
  "kernelspec": {
   "display_name": "Python 3 (ipykernel)",
   "language": "python",
   "name": "python3"
  },
  "language_info": {
   "codemirror_mode": {
    "name": "ipython",
    "version": 3
   },
   "file_extension": ".py",
   "mimetype": "text/x-python",
   "name": "python",
   "nbconvert_exporter": "python",
   "pygments_lexer": "ipython3",
   "version": "3.8.16"
  }
 },
 "nbformat": 4,
 "nbformat_minor": 5
}
