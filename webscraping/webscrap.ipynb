{
 "cells": [
  {
   "cell_type": "code",
   "execution_count": 24,
   "id": "6224ee81",
   "metadata": {},
   "outputs": [
    {
     "name": "stdout",
     "output_type": "stream",
     "text": [
      "Package 'beautifulsoup4' is already installed.\n",
      "Package 'requests' is already installed.\n",
      "Package 'pip-system-certs' is already installed.\n",
      "Package 'pyopenssl' is already installed.\n",
      "Package 'selenium' is already installed.\n",
      "Package 'webdriver-manager' is already installed.\n",
      "Package 'datefinder' is already installed.\n",
      "Package 'pygame' is already installed.\n",
      "Package 'termcolor' is already installed.\n"
     ]
    }
   ],
   "source": [
    "import os\n",
    "\n",
    "current_dir = os.getcwd()\n",
    "\n",
    "installer_path = os.path.join(current_dir, \"installer.py\")\n",
    "%run $installer_path\n",
    "\n",
    "open_path = os.path.join(current_dir, \"open_website.py\")\n",
    "%run $open_path\n",
    "\n",
    "classinfo_path = os.path.join(current_dir, \"class_info.py\")\n",
    "%run $classinfo_path\n",
    "\n",
    "run_path = os.path.join(current_dir, \"process.py\")\n",
    "%run $run_path"
   ]
  },
  {
   "cell_type": "code",
   "execution_count": 25,
   "id": "8c3ff3a7",
   "metadata": {},
   "outputs": [
    {
     "name": "stdout",
     "output_type": "stream",
     "text": [
      "*** Shopee open successful ***\n",
      "number of product: 1\n",
      "UPick1 ชุดไฟไลฟ์สดLED+พร้อมขาตั้ง 2.1m / ขาตั้ง3110(สูงสุด1.1m)+ที่จับมือถือ วงไฟมีหลายขนาดให้เลือก 26/30cm ปรับได้3สี เปลี่ยนได้10ระดับ คุณภาพสูง มีประกันสินค้า\n",
      "Unexpected exception formatting exception. Falling back to standard exception\n"
     ]
    },
    {
     "name": "stderr",
     "output_type": "stream",
     "text": [
      "Traceback (most recent call last):\n",
      "  File \"C:\\Users\\Pop\\anaconda3\\envs\\utcc\\lib\\site-packages\\IPython\\core\\interactiveshell.py\", line 3505, in run_code\n",
      "    exec(code_obj, self.user_global_ns, self.user_ns)\n",
      "  File \"C:\\Users\\Pop\\AppData\\Local\\Temp\\ipykernel_2448\\1793142601.py\", line 10, in <module>\n",
      "    driver = loop_product(driver, products)\n",
      "  File \"C:\\Users\\Pop\\Documents\\GitHub\\utcc_independent_study\\webscraping\\process.py\", line 90, in loop_product\n",
      "    get_info(driver)\n",
      "  File \"C:\\Users\\Pop\\Documents\\GitHub\\utcc_independent_study\\webscraping\\process.py\", line 144, in get_info\n",
      "    loop_star(driver, full_list)\n",
      "  File \"C:\\Users\\Pop\\Documents\\GitHub\\utcc_independent_study\\webscraping\\process.py\", line 167, in loop_star\n",
      "    number_rate = extract_number(with_ment.get_attribute('textContent'))\n",
      "  File \"C:\\Users\\Pop\\Documents\\GitHub\\utcc_independent_study\\webscraping\\process.py\", line 15, in extract_number\n",
      "    decimal_part = re.findall(r'[\\d]*[.][\\d]+', number)\n",
      "NameError: name 're' is not defined\n",
      "\n",
      "During handling of the above exception, another exception occurred:\n",
      "\n",
      "Traceback (most recent call last):\n",
      "  File \"C:\\Users\\Pop\\anaconda3\\envs\\utcc\\lib\\site-packages\\IPython\\core\\interactiveshell.py\", line 2102, in showtraceback\n",
      "    stb = self.InteractiveTB.structured_traceback(\n",
      "  File \"C:\\Users\\Pop\\anaconda3\\envs\\utcc\\lib\\site-packages\\IPython\\core\\ultratb.py\", line 1310, in structured_traceback\n",
      "    return FormattedTB.structured_traceback(\n",
      "  File \"C:\\Users\\Pop\\anaconda3\\envs\\utcc\\lib\\site-packages\\IPython\\core\\ultratb.py\", line 1199, in structured_traceback\n",
      "    return VerboseTB.structured_traceback(\n",
      "  File \"C:\\Users\\Pop\\anaconda3\\envs\\utcc\\lib\\site-packages\\IPython\\core\\ultratb.py\", line 1052, in structured_traceback\n",
      "    formatted_exception = self.format_exception_as_a_whole(etype, evalue, etb, number_of_lines_of_context,\n",
      "  File \"C:\\Users\\Pop\\anaconda3\\envs\\utcc\\lib\\site-packages\\IPython\\core\\ultratb.py\", line 978, in format_exception_as_a_whole\n",
      "    frames.append(self.format_record(record))\n",
      "  File \"C:\\Users\\Pop\\anaconda3\\envs\\utcc\\lib\\site-packages\\IPython\\core\\ultratb.py\", line 878, in format_record\n",
      "    frame_info.lines, Colors, self.has_colors, lvals\n",
      "  File \"C:\\Users\\Pop\\anaconda3\\envs\\utcc\\lib\\site-packages\\IPython\\core\\ultratb.py\", line 712, in lines\n",
      "    return self._sd.lines\n",
      "  File \"C:\\Users\\Pop\\anaconda3\\envs\\utcc\\lib\\site-packages\\stack_data\\utils.py\", line 145, in cached_property_wrapper\n",
      "    value = obj.__dict__[self.func.__name__] = self.func(obj)\n",
      "  File \"C:\\Users\\Pop\\anaconda3\\envs\\utcc\\lib\\site-packages\\stack_data\\core.py\", line 698, in lines\n",
      "    pieces = self.included_pieces\n",
      "  File \"C:\\Users\\Pop\\anaconda3\\envs\\utcc\\lib\\site-packages\\stack_data\\utils.py\", line 145, in cached_property_wrapper\n",
      "    value = obj.__dict__[self.func.__name__] = self.func(obj)\n",
      "  File \"C:\\Users\\Pop\\anaconda3\\envs\\utcc\\lib\\site-packages\\stack_data\\core.py\", line 649, in included_pieces\n",
      "    pos = scope_pieces.index(self.executing_piece)\n",
      "  File \"C:\\Users\\Pop\\anaconda3\\envs\\utcc\\lib\\site-packages\\stack_data\\utils.py\", line 145, in cached_property_wrapper\n",
      "    value = obj.__dict__[self.func.__name__] = self.func(obj)\n",
      "  File \"C:\\Users\\Pop\\anaconda3\\envs\\utcc\\lib\\site-packages\\stack_data\\core.py\", line 628, in executing_piece\n",
      "    return only(\n",
      "  File \"C:\\Users\\Pop\\anaconda3\\envs\\utcc\\lib\\site-packages\\executing\\executing.py\", line 164, in only\n",
      "    raise NotOneValueFound('Expected one value, found 0')\n",
      "executing.executing.NotOneValueFound: Expected one value, found 0\n"
     ]
    }
   ],
   "source": [
    "save_path = os.path.join(current_dir, \"..\\\\data\")\n",
    "\n",
    "fin = []\n",
    "file_name = 'ขาตั้งกล้องมือถือ'\n",
    "\n",
    "url = 'https://shopee.co.th/search?keyword=ขาตั้งกล้องมือถือ'\n",
    "driver = get_webpage(url)\n",
    "\n",
    "products = 3\n",
    "driver = loop_product(driver, products)\n",
    "\n",
    "try: \n",
    "    loop_product(driver)\n",
    "except Exception as e:\n",
    "    print(e)\n",
    "    df = pd.DataFrame(fin, columns=[\"product_url\", \"product_name\", \"overall_rate\", \"cat_1\", \"cat_2\", \"cat_3\", \"date\",\"num_like\", \"review_stars\", \"comment\"])\n",
    "    df.to_csv(r'{}\\{}.csv'.format(file_location, filename), encoding='utf-8-sig', index=False)\n",
    "    sleep(10)\n",
    "    play_song()\n",
    "\n",
    "df = pd.DataFrame(fin, columns=[\"product_url\", \"product_name\", \"overall_rate\", \"cat_1\", \"cat_2\", \"cat_3\", \"date\",\"num_like\", \"review_stars\", \"comment\"])\n",
    "df.to_csv(r'{}\\{}.csv'.format(save_path, filename), encoding='utf-8-sig', index=False)\n",
    "\n",
    "print('successful')"
   ]
  },
  {
   "cell_type": "code",
   "execution_count": 21,
   "id": "14aa74b3",
   "metadata": {},
   "outputs": [
    {
     "data": {
      "text/plain": [
       "'C:\\\\Users\\\\Pop\\\\Documents\\\\GitHub\\\\utcc_independent_study\\\\webscraping\\\\..\\\\data'"
      ]
     },
     "execution_count": 21,
     "metadata": {},
     "output_type": "execute_result"
    }
   ],
   "source": [
    "\n",
    "save_path"
   ]
  },
  {
   "cell_type": "code",
   "execution_count": 18,
   "id": "ac4fded7",
   "metadata": {},
   "outputs": [
    {
     "data": {
      "text/plain": [
       "'C:\\\\Users\\\\Pop\\\\Documents\\\\GitHub\\\\utcc_independent_study\\\\webscraping\\\\utility'"
      ]
     },
     "execution_count": 18,
     "metadata": {},
     "output_type": "execute_result"
    }
   ],
   "source": []
  },
  {
   "cell_type": "code",
   "execution_count": null,
   "id": "78ec5fd9",
   "metadata": {},
   "outputs": [],
   "source": []
  }
 ],
 "metadata": {
  "kernelspec": {
   "display_name": "Python 3 (ipykernel)",
   "language": "python",
   "name": "python3"
  },
  "language_info": {
   "codemirror_mode": {
    "name": "ipython",
    "version": 3
   },
   "file_extension": ".py",
   "mimetype": "text/x-python",
   "name": "python",
   "nbconvert_exporter": "python",
   "pygments_lexer": "ipython3",
   "version": "3.8.16"
  }
 },
 "nbformat": 4,
 "nbformat_minor": 5
}
